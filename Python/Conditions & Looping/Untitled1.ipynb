{
 "cells": [
  {
   "cell_type": "code",
   "execution_count": 3,
   "metadata": {},
   "outputs": [
    {
     "name": "stdout",
     "output_type": "stream",
     "text": [
      "12321\n",
      "yes\n"
     ]
    }
   ],
   "source": [
    "def checkPalindrome(num):\n",
    "    a = num\n",
    "    r = 0\n",
    "    while(num>0):\n",
    "        b = num%10\n",
    "        r = r*10+b\n",
    "        num = num//10\n",
    "    if(r==a):\n",
    "        flag = True\n",
    "    else:\n",
    "        flag = False\n",
    "    return flag\n",
    "pass\n",
    "num = int(input())\n",
    "ispal = checkPalindrome(num)\n",
    "if(ispal):\n",
    "    print(\"yes\")\n",
    "else:\n",
    "    print(\"no\")"
   ]
  },
  {
   "cell_type": "code",
   "execution_count": 5,
   "metadata": {},
   "outputs": [
    {
     "name": "stdout",
     "output_type": "stream",
     "text": [
      "4455\n",
      "Even 8 Odd 10\n"
     ]
    }
   ],
   "source": [
    "n = int(input())\n",
    "even = 0\n",
    "odd = 0\n",
    "while(n>0):\n",
    "    a = n % 10\n",
    "    if (a%2 == 0):\n",
    "        even = even + a\n",
    "    else:\n",
    "        odd = odd + a\n",
    "    n = n//10\n",
    "print(\"Even\",even,\"Odd\",odd)"
   ]
  },
  {
   "cell_type": "code",
   "execution_count": null,
   "metadata": {},
   "outputs": [],
   "source": []
  }
 ],
 "metadata": {
  "kernelspec": {
   "display_name": "Python 3",
   "language": "python",
   "name": "python3"
  },
  "language_info": {
   "codemirror_mode": {
    "name": "ipython",
    "version": 3
   },
   "file_extension": ".py",
   "mimetype": "text/x-python",
   "name": "python",
   "nbconvert_exporter": "python",
   "pygments_lexer": "ipython3",
   "version": "3.6.9"
  }
 },
 "nbformat": 4,
 "nbformat_minor": 2
}
