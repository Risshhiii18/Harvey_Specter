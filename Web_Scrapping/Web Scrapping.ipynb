{
 "cells": [
  {
   "cell_type": "code",
   "execution_count": 5,
   "metadata": {},
   "outputs": [],
   "source": [
    "import requests\n",
    "from bs4 import BeautifulSoup"
   ]
  },
  {
   "cell_type": "code",
   "execution_count": 3,
   "metadata": {},
   "outputs": [],
   "source": [
    "#creating the object to hold to page source content\n",
    "page = requests.get(\"https://forecast.weather.gov/MapClick.php?lat=37.7772&lon=-122.4168#.XpLOY8gzbcc\")\n",
    "#print(page)"
   ]
  },
  {
   "cell_type": "code",
   "execution_count": 6,
   "metadata": {},
   "outputs": [],
   "source": [
    "#creating an object to store the page source in proper html format\n",
    "soup = BeautifulSoup(page.content, 'html.parser')\n",
    "#print(soup)"
   ]
  },
  {
   "cell_type": "code",
   "execution_count": 7,
   "metadata": {},
   "outputs": [],
   "source": [
    "#storing page source belonging to a prticular id tag on the page\n",
    "seven_day = soup.find(id=\"seven-day-forecast\")\n",
    "#print(seven_day)"
   ]
  },
  {
   "cell_type": "code",
   "execution_count": 8,
   "metadata": {},
   "outputs": [],
   "source": [
    "#finding all instances of a particular class tag within the id and storing it to object\n",
    "forecast_items = seven_day.find_all(class_=\"tombstone-container\")\n",
    "#print(forecast_items)"
   ]
  },
  {
   "cell_type": "code",
   "execution_count": 9,
   "metadata": {},
   "outputs": [],
   "source": [
    "tonight = forecast_items[0]\n",
    "#print(tonight.prettify())"
   ]
  },
  {
   "cell_type": "code",
   "execution_count": 10,
   "metadata": {},
   "outputs": [
    {
     "name": "stdout",
     "output_type": "stream",
     "text": [
      "Overnight\n",
      "PatchyDrizzle\n",
      "Low: 51 °F\n"
     ]
    }
   ],
   "source": [
    "#extracting the values of sub tags\n",
    "period = tonight.find(class_=\"period-name\").get_text()\n",
    "short_desc = tonight.find(class_=\"short-desc\").get_text()\n",
    "temp = tonight.find(class_=\"temp temp-low\").get_text()\n",
    "\n",
    "print(period)\n",
    "print(short_desc)\n",
    "print(temp)\n",
    "\n"
   ]
  },
  {
   "cell_type": "code",
   "execution_count": 11,
   "metadata": {},
   "outputs": [
    {
     "name": "stdout",
     "output_type": "stream",
     "text": [
      "Overnight: Patchy drizzle.  Mostly cloudy, with a low around 51. West southwest wind around 6 mph. \n"
     ]
    }
   ],
   "source": [
    "#extracting the title part of the img tag\n",
    "img = tonight.find(\"img\")\n",
    "desc = img['title']\n",
    "\n",
    "print(desc)"
   ]
  },
  {
   "cell_type": "code",
   "execution_count": 12,
   "metadata": {},
   "outputs": [
    {
     "name": "stdout",
     "output_type": "stream",
     "text": [
      "['Overnight', 'Sunday', 'SundayNight', 'Monday', 'MondayNight', 'Tuesday', 'TuesdayNight', 'Wednesday', 'WednesdayNight']\n"
     ]
    }
   ],
   "source": [
    "#extracting all values for the period tag from the entire object\n",
    "period_tags = seven_day.select(\".tombstone-container .period-name\")\n",
    "periods = [pt.get_text() for pt in period_tags]\n",
    "print(periods)"
   ]
  },
  {
   "cell_type": "code",
   "execution_count": 13,
   "metadata": {},
   "outputs": [
    {
     "name": "stdout",
     "output_type": "stream",
     "text": [
      "['PatchyDrizzle', 'PatchyDrizzle thenSunny', 'Partly Cloudy', 'Mostly Sunny', 'Mostly Clear', 'Sunny', 'Mostly Clear', 'Mostly Sunny', 'Partly Cloudy']\n",
      "\n",
      "['Low: 51 °F', 'High: 64 °F', 'Low: 51 °F', 'High: 67 °F', 'Low: 51 °F', 'High: 71 °F', 'Low: 51 °F', 'High: 68 °F', 'Low: 52 °F']\n",
      "\n",
      "['Overnight: Patchy drizzle.  Mostly cloudy, with a low around 51. West southwest wind around 6 mph. ', 'Sunday: Patchy drizzle before 8am.  Mostly cloudy, then gradually becoming sunny, with a high near 64. Light and variable wind becoming west 9 to 14 mph in the afternoon. Winds could gust as high as 18 mph. ', 'Sunday Night: Partly cloudy, with a low around 51. West southwest wind 6 to 14 mph. ', 'Monday: Mostly sunny, with a high near 67. Calm wind becoming west southwest 5 to 9 mph in the afternoon. ', 'Monday Night: Mostly clear, with a low around 51. West wind 8 to 13 mph becoming light  in the evening. ', 'Tuesday: Sunny, with a high near 71.', 'Tuesday Night: Mostly clear, with a low around 51.', 'Wednesday: Mostly sunny, with a high near 68.', 'Wednesday Night: Partly cloudy, with a low around 52.']\n"
     ]
    }
   ],
   "source": [
    "#similarly extracting the other tags also from the entire object\n",
    "short_descs = [sd.get_text() for sd in seven_day.select(\".tombstone-container .short-desc\")]\n",
    "temps = [t.get_text() for t in seven_day.select(\".tombstone-container .temp\")]\n",
    "descs = [d[\"title\"] for d in seven_day.select(\".tombstone-container img\")]\n",
    "print(short_descs)\n",
    "print()\n",
    "print(temps)\n",
    "print()\n",
    "print(descs)"
   ]
  },
  {
   "cell_type": "code",
   "execution_count": 19,
   "metadata": {},
   "outputs": [
    {
     "data": {
      "text/html": [
       "<div>\n",
       "<style scoped>\n",
       "    .dataframe tbody tr th:only-of-type {\n",
       "        vertical-align: middle;\n",
       "    }\n",
       "\n",
       "    .dataframe tbody tr th {\n",
       "        vertical-align: top;\n",
       "    }\n",
       "\n",
       "    .dataframe thead th {\n",
       "        text-align: right;\n",
       "    }\n",
       "</style>\n",
       "<table border=\"1\" class=\"dataframe\">\n",
       "  <thead>\n",
       "    <tr style=\"text-align: right;\">\n",
       "      <th></th>\n",
       "      <th>period</th>\n",
       "      <th>short_desc</th>\n",
       "      <th>temp</th>\n",
       "      <th>desc</th>\n",
       "    </tr>\n",
       "  </thead>\n",
       "  <tbody>\n",
       "    <tr>\n",
       "      <th>0</th>\n",
       "      <td>Overnight</td>\n",
       "      <td>PatchyDrizzle</td>\n",
       "      <td>Low: 51 °F</td>\n",
       "      <td>Overnight: Patchy drizzle.  Mostly cloudy, wit...</td>\n",
       "    </tr>\n",
       "    <tr>\n",
       "      <th>1</th>\n",
       "      <td>Sunday</td>\n",
       "      <td>PatchyDrizzle thenSunny</td>\n",
       "      <td>High: 64 °F</td>\n",
       "      <td>Sunday: Patchy drizzle before 8am.  Mostly clo...</td>\n",
       "    </tr>\n",
       "    <tr>\n",
       "      <th>2</th>\n",
       "      <td>SundayNight</td>\n",
       "      <td>Partly Cloudy</td>\n",
       "      <td>Low: 51 °F</td>\n",
       "      <td>Sunday Night: Partly cloudy, with a low around...</td>\n",
       "    </tr>\n",
       "    <tr>\n",
       "      <th>3</th>\n",
       "      <td>Monday</td>\n",
       "      <td>Mostly Sunny</td>\n",
       "      <td>High: 67 °F</td>\n",
       "      <td>Monday: Mostly sunny, with a high near 67. Cal...</td>\n",
       "    </tr>\n",
       "    <tr>\n",
       "      <th>4</th>\n",
       "      <td>MondayNight</td>\n",
       "      <td>Mostly Clear</td>\n",
       "      <td>Low: 51 °F</td>\n",
       "      <td>Monday Night: Mostly clear, with a low around ...</td>\n",
       "    </tr>\n",
       "    <tr>\n",
       "      <th>5</th>\n",
       "      <td>Tuesday</td>\n",
       "      <td>Sunny</td>\n",
       "      <td>High: 71 °F</td>\n",
       "      <td>Tuesday: Sunny, with a high near 71.</td>\n",
       "    </tr>\n",
       "    <tr>\n",
       "      <th>6</th>\n",
       "      <td>TuesdayNight</td>\n",
       "      <td>Mostly Clear</td>\n",
       "      <td>Low: 51 °F</td>\n",
       "      <td>Tuesday Night: Mostly clear, with a low around...</td>\n",
       "    </tr>\n",
       "    <tr>\n",
       "      <th>7</th>\n",
       "      <td>Wednesday</td>\n",
       "      <td>Mostly Sunny</td>\n",
       "      <td>High: 68 °F</td>\n",
       "      <td>Wednesday: Mostly sunny, with a high near 68.</td>\n",
       "    </tr>\n",
       "    <tr>\n",
       "      <th>8</th>\n",
       "      <td>WednesdayNight</td>\n",
       "      <td>Partly Cloudy</td>\n",
       "      <td>Low: 52 °F</td>\n",
       "      <td>Wednesday Night: Partly cloudy, with a low aro...</td>\n",
       "    </tr>\n",
       "  </tbody>\n",
       "</table>\n",
       "</div>"
      ],
      "text/plain": [
       "           period               short_desc         temp  \\\n",
       "0       Overnight            PatchyDrizzle   Low: 51 °F   \n",
       "1          Sunday  PatchyDrizzle thenSunny  High: 64 °F   \n",
       "2     SundayNight            Partly Cloudy   Low: 51 °F   \n",
       "3          Monday             Mostly Sunny  High: 67 °F   \n",
       "4     MondayNight             Mostly Clear   Low: 51 °F   \n",
       "5         Tuesday                    Sunny  High: 71 °F   \n",
       "6    TuesdayNight             Mostly Clear   Low: 51 °F   \n",
       "7       Wednesday             Mostly Sunny  High: 68 °F   \n",
       "8  WednesdayNight            Partly Cloudy   Low: 52 °F   \n",
       "\n",
       "                                                desc  \n",
       "0  Overnight: Patchy drizzle.  Mostly cloudy, wit...  \n",
       "1  Sunday: Patchy drizzle before 8am.  Mostly clo...  \n",
       "2  Sunday Night: Partly cloudy, with a low around...  \n",
       "3  Monday: Mostly sunny, with a high near 67. Cal...  \n",
       "4  Monday Night: Mostly clear, with a low around ...  \n",
       "5               Tuesday: Sunny, with a high near 71.  \n",
       "6  Tuesday Night: Mostly clear, with a low around...  \n",
       "7      Wednesday: Mostly sunny, with a high near 68.  \n",
       "8  Wednesday Night: Partly cloudy, with a low aro...  "
      ]
     },
     "execution_count": 19,
     "metadata": {},
     "output_type": "execute_result"
    }
   ],
   "source": [
    "import pandas as pd\n",
    "weather = pd.DataFrame({\n",
    "\"period\": periods,\n",
    "\"short_desc\": short_descs,\n",
    "\"temp\": temps,\n",
    "\"desc\":descs\n",
    "})\n",
    "weather"
   ]
  },
  {
   "cell_type": "code",
   "execution_count": 15,
   "metadata": {},
   "outputs": [
    {
     "name": "stdout",
     "output_type": "stream",
     "text": [
      "                 0                                                  1\n",
      "0        Overnight  Patchy drizzle.  Mostly cloudy, with a low aro...\n",
      "1           Sunday  Patchy drizzle before 8am.  Mostly cloudy, the...\n",
      "2     Sunday Night  Partly cloudy, with a low around 51. West sout...\n",
      "3           Monday  Mostly sunny, with a high near 67. Calm wind b...\n",
      "4     Monday Night  Mostly clear, with a low around 51. West wind ...\n",
      "5          Tuesday                        Sunny, with a high near 71.\n",
      "6    Tuesday Night                Mostly clear, with a low around 51.\n",
      "7        Wednesday                 Mostly sunny, with a high near 68.\n",
      "8  Wednesday Night               Partly cloudy, with a low around 52.\n"
     ]
    }
   ],
   "source": [
    "new  = weather['desc'].str.split(': ',expand=True)\n",
    "print(new)"
   ]
  },
  {
   "cell_type": "code",
   "execution_count": 21,
   "metadata": {},
   "outputs": [],
   "source": [
    "weather['desc'] = new[1]"
   ]
  },
  {
   "cell_type": "code",
   "execution_count": 22,
   "metadata": {},
   "outputs": [
    {
     "data": {
      "text/html": [
       "<div>\n",
       "<style scoped>\n",
       "    .dataframe tbody tr th:only-of-type {\n",
       "        vertical-align: middle;\n",
       "    }\n",
       "\n",
       "    .dataframe tbody tr th {\n",
       "        vertical-align: top;\n",
       "    }\n",
       "\n",
       "    .dataframe thead th {\n",
       "        text-align: right;\n",
       "    }\n",
       "</style>\n",
       "<table border=\"1\" class=\"dataframe\">\n",
       "  <thead>\n",
       "    <tr style=\"text-align: right;\">\n",
       "      <th></th>\n",
       "      <th>period</th>\n",
       "      <th>short_desc</th>\n",
       "      <th>temp</th>\n",
       "      <th>desc</th>\n",
       "    </tr>\n",
       "  </thead>\n",
       "  <tbody>\n",
       "    <tr>\n",
       "      <th>0</th>\n",
       "      <td>Overnight</td>\n",
       "      <td>PatchyDrizzle</td>\n",
       "      <td>Low: 51 °F</td>\n",
       "      <td>Patchy drizzle.  Mostly cloudy, with a low aro...</td>\n",
       "    </tr>\n",
       "    <tr>\n",
       "      <th>1</th>\n",
       "      <td>Sunday</td>\n",
       "      <td>PatchyDrizzle thenSunny</td>\n",
       "      <td>High: 64 °F</td>\n",
       "      <td>Patchy drizzle before 8am.  Mostly cloudy, the...</td>\n",
       "    </tr>\n",
       "    <tr>\n",
       "      <th>2</th>\n",
       "      <td>SundayNight</td>\n",
       "      <td>Partly Cloudy</td>\n",
       "      <td>Low: 51 °F</td>\n",
       "      <td>Partly cloudy, with a low around 51. West sout...</td>\n",
       "    </tr>\n",
       "    <tr>\n",
       "      <th>3</th>\n",
       "      <td>Monday</td>\n",
       "      <td>Mostly Sunny</td>\n",
       "      <td>High: 67 °F</td>\n",
       "      <td>Mostly sunny, with a high near 67. Calm wind b...</td>\n",
       "    </tr>\n",
       "    <tr>\n",
       "      <th>4</th>\n",
       "      <td>MondayNight</td>\n",
       "      <td>Mostly Clear</td>\n",
       "      <td>Low: 51 °F</td>\n",
       "      <td>Mostly clear, with a low around 51. West wind ...</td>\n",
       "    </tr>\n",
       "    <tr>\n",
       "      <th>5</th>\n",
       "      <td>Tuesday</td>\n",
       "      <td>Sunny</td>\n",
       "      <td>High: 71 °F</td>\n",
       "      <td>Sunny, with a high near 71.</td>\n",
       "    </tr>\n",
       "    <tr>\n",
       "      <th>6</th>\n",
       "      <td>TuesdayNight</td>\n",
       "      <td>Mostly Clear</td>\n",
       "      <td>Low: 51 °F</td>\n",
       "      <td>Mostly clear, with a low around 51.</td>\n",
       "    </tr>\n",
       "    <tr>\n",
       "      <th>7</th>\n",
       "      <td>Wednesday</td>\n",
       "      <td>Mostly Sunny</td>\n",
       "      <td>High: 68 °F</td>\n",
       "      <td>Mostly sunny, with a high near 68.</td>\n",
       "    </tr>\n",
       "    <tr>\n",
       "      <th>8</th>\n",
       "      <td>WednesdayNight</td>\n",
       "      <td>Partly Cloudy</td>\n",
       "      <td>Low: 52 °F</td>\n",
       "      <td>Partly cloudy, with a low around 52.</td>\n",
       "    </tr>\n",
       "  </tbody>\n",
       "</table>\n",
       "</div>"
      ],
      "text/plain": [
       "           period               short_desc         temp  \\\n",
       "0       Overnight            PatchyDrizzle   Low: 51 °F   \n",
       "1          Sunday  PatchyDrizzle thenSunny  High: 64 °F   \n",
       "2     SundayNight            Partly Cloudy   Low: 51 °F   \n",
       "3          Monday             Mostly Sunny  High: 67 °F   \n",
       "4     MondayNight             Mostly Clear   Low: 51 °F   \n",
       "5         Tuesday                    Sunny  High: 71 °F   \n",
       "6    TuesdayNight             Mostly Clear   Low: 51 °F   \n",
       "7       Wednesday             Mostly Sunny  High: 68 °F   \n",
       "8  WednesdayNight            Partly Cloudy   Low: 52 °F   \n",
       "\n",
       "                                                desc  \n",
       "0  Patchy drizzle.  Mostly cloudy, with a low aro...  \n",
       "1  Patchy drizzle before 8am.  Mostly cloudy, the...  \n",
       "2  Partly cloudy, with a low around 51. West sout...  \n",
       "3  Mostly sunny, with a high near 67. Calm wind b...  \n",
       "4  Mostly clear, with a low around 51. West wind ...  \n",
       "5                        Sunny, with a high near 71.  \n",
       "6                Mostly clear, with a low around 51.  \n",
       "7                 Mostly sunny, with a high near 68.  \n",
       "8               Partly cloudy, with a low around 52.  "
      ]
     },
     "execution_count": 22,
     "metadata": {},
     "output_type": "execute_result"
    }
   ],
   "source": [
    "weather"
   ]
  },
  {
   "cell_type": "code",
   "execution_count": 20,
   "metadata": {},
   "outputs": [
    {
     "name": "stdout",
     "output_type": "stream",
     "text": [
      "                 0                                                  1\n",
      "0        Overnight  Patchy drizzle.  Mostly cloudy, with a low aro...\n",
      "1           Sunday  Patchy drizzle before 8am.  Mostly cloudy, the...\n",
      "2     Sunday Night  Partly cloudy, with a low around 51. West sout...\n",
      "3           Monday  Mostly sunny, with a high near 67. Calm wind b...\n",
      "4     Monday Night  Mostly clear, with a low around 51. West wind ...\n",
      "5          Tuesday                        Sunny, with a high near 71.\n",
      "6    Tuesday Night                Mostly clear, with a low around 51.\n",
      "7        Wednesday                 Mostly sunny, with a high near 68.\n",
      "8  Wednesday Night               Partly cloudy, with a low around 52.\n"
     ]
    }
   ],
   "source": [
    "#desc has the text that contains the value of period also\n",
    "#trying to split the desc string such that the period part is removed\n",
    "new = weather[\"desc\"].str.split(\": \",expand=True)\n",
    "print(new)"
   ]
  },
  {
   "cell_type": "code",
   "execution_count": 23,
   "metadata": {},
   "outputs": [],
   "source": [
    "weather.to_excel(\"weather_details.xlsx\", header = True)"
   ]
  },
  {
   "cell_type": "code",
   "execution_count": null,
   "metadata": {},
   "outputs": [],
   "source": []
  }
 ],
 "metadata": {
  "kernelspec": {
   "display_name": "Python 3",
   "language": "python",
   "name": "python3"
  },
  "language_info": {
   "codemirror_mode": {
    "name": "ipython",
    "version": 3
   },
   "file_extension": ".py",
   "mimetype": "text/x-python",
   "name": "python",
   "nbconvert_exporter": "python",
   "pygments_lexer": "ipython3",
   "version": "3.7.6"
  }
 },
 "nbformat": 4,
 "nbformat_minor": 4
}
