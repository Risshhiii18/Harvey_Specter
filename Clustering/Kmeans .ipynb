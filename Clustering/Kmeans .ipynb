{
 "cells": [
  {
   "cell_type": "code",
   "execution_count": 1,
   "metadata": {},
   "outputs": [],
   "source": [
    "import pandas as pd\n",
    "import numpy as np\n",
    "import matplotlib.pyplot as plt\n",
    "from sklearn.cluster import KMeans"
   ]
  },
  {
   "cell_type": "code",
   "execution_count": 2,
   "metadata": {
    "collapsed": true
   },
   "outputs": [
    {
     "data": {
      "text/plain": [
       "array([[7.96432440e-01, 3.34810834e-01],\n",
       "       [1.89578847e-01, 2.41468795e-01],\n",
       "       [4.08339869e-01, 4.78079609e-01],\n",
       "       [6.99321984e-01, 9.43965472e-01],\n",
       "       [4.49947380e-01, 9.69064194e-01],\n",
       "       [1.47396787e-01, 4.83400860e-01],\n",
       "       [6.79648800e-01, 2.29453181e-01],\n",
       "       [3.93415828e-01, 3.58856197e-02],\n",
       "       [1.30170844e-01, 2.82680750e-01],\n",
       "       [7.95134197e-01, 1.74983762e-01],\n",
       "       [6.40921961e-01, 1.74757556e-01],\n",
       "       [1.96380014e-01, 7.27682211e-01],\n",
       "       [8.79335071e-01, 9.56458490e-04],\n",
       "       [5.58885820e-01, 1.22216013e-01],\n",
       "       [6.72433848e-01, 9.09394317e-01],\n",
       "       [8.15679523e-02, 7.51541233e-01],\n",
       "       [9.68429173e-01, 5.06213938e-01],\n",
       "       [4.10242798e-01, 9.01332276e-01],\n",
       "       [8.54620424e-01, 7.48882593e-01],\n",
       "       [5.03389406e-01, 7.66019916e-01],\n",
       "       [9.59446013e-01, 5.09675931e-01],\n",
       "       [9.37817536e-01, 2.38812333e-01],\n",
       "       [4.35290014e-01, 3.53103907e-01],\n",
       "       [2.36082789e-02, 8.68719068e-01],\n",
       "       [4.89009811e-03, 6.77923990e-01],\n",
       "       [1.74283190e-02, 7.04622356e-01],\n",
       "       [5.61148728e-01, 4.26417036e-01],\n",
       "       [5.92752541e-01, 4.50645082e-01],\n",
       "       [1.74885636e-01, 1.22977619e-01],\n",
       "       [7.76256776e-01, 5.51080042e-02],\n",
       "       [4.32476792e-01, 8.93267152e-01],\n",
       "       [5.65592521e-01, 5.43026087e-01],\n",
       "       [1.83523871e-02, 3.31130337e-01],\n",
       "       [5.54902087e-01, 4.29979432e-01],\n",
       "       [5.83717361e-01, 4.52481315e-01],\n",
       "       [9.35037391e-01, 2.95195392e-01],\n",
       "       [1.47579093e-01, 1.71714524e-01],\n",
       "       [3.33061228e-02, 8.79040161e-01],\n",
       "       [5.32588235e-03, 2.89476894e-02],\n",
       "       [3.13704483e-01, 5.85571749e-01],\n",
       "       [5.43652221e-02, 5.97006423e-01],\n",
       "       [7.69146711e-01, 4.26254018e-01],\n",
       "       [2.45227731e-01, 8.57325875e-01],\n",
       "       [4.09573094e-01, 2.68548793e-01],\n",
       "       [2.66857173e-01, 6.52596775e-01],\n",
       "       [6.51082956e-01, 7.95328355e-01],\n",
       "       [2.32355983e-01, 4.02031884e-01],\n",
       "       [2.60948736e-01, 7.72890084e-01],\n",
       "       [9.84725753e-01, 1.81296407e-01],\n",
       "       [2.69347055e-01, 8.84332599e-02],\n",
       "       [5.88090978e-02, 5.51797905e-01],\n",
       "       [9.62866507e-01, 2.38540401e-01],\n",
       "       [1.76794907e-01, 1.19935659e-01],\n",
       "       [7.92003106e-01, 5.12007996e-01],\n",
       "       [7.58640393e-01, 6.47252699e-01],\n",
       "       [3.78987710e-01, 1.35044561e-01],\n",
       "       [9.53745281e-01, 7.12208728e-01],\n",
       "       [1.09532401e-02, 7.72705738e-01],\n",
       "       [1.37759066e-01, 5.20681304e-01],\n",
       "       [1.38041159e-01, 8.65408076e-01],\n",
       "       [6.17139005e-01, 2.09225783e-01],\n",
       "       [5.53200727e-01, 7.40176987e-01],\n",
       "       [4.94803939e-01, 4.16853184e-01],\n",
       "       [3.36872677e-01, 9.72264949e-01],\n",
       "       [7.52199824e-01, 7.06744519e-01],\n",
       "       [4.09268761e-01, 7.79447589e-01],\n",
       "       [4.73289188e-01, 5.13411999e-01],\n",
       "       [4.79945866e-01, 4.65360668e-01],\n",
       "       [6.42190376e-01, 1.56179404e-01],\n",
       "       [5.39923574e-01, 7.05584666e-01],\n",
       "       [4.81573808e-01, 8.26275815e-01],\n",
       "       [4.69351334e-01, 3.93584889e-01],\n",
       "       [1.37119535e-01, 4.64983779e-01],\n",
       "       [4.45477590e-01, 4.10714339e-01],\n",
       "       [4.47124404e-01, 1.13449608e-02],\n",
       "       [8.34360712e-01, 2.77714472e-01],\n",
       "       [7.57559209e-01, 2.91072664e-01],\n",
       "       [2.96682484e-01, 3.71641295e-01],\n",
       "       [4.46848804e-01, 5.16791128e-01],\n",
       "       [3.88023832e-01, 7.43034381e-01],\n",
       "       [7.66089138e-01, 3.61399764e-01],\n",
       "       [2.18121805e-01, 5.61760161e-01],\n",
       "       [6.43391929e-01, 1.07672670e-01],\n",
       "       [4.27956321e-01, 7.74849124e-01],\n",
       "       [6.76455000e-01, 3.02026765e-01],\n",
       "       [9.67833394e-01, 4.51214663e-01],\n",
       "       [3.15624017e-01, 3.31790649e-02],\n",
       "       [2.19155854e-01, 1.21117608e-02],\n",
       "       [5.40352466e-01, 4.66773775e-01],\n",
       "       [1.40047211e-01, 7.21629482e-01],\n",
       "       [3.19351499e-02, 2.96049937e-01],\n",
       "       [1.65123437e-01, 4.32800657e-02],\n",
       "       [2.86589978e-01, 3.01163692e-01],\n",
       "       [3.02813951e-01, 1.82320450e-01],\n",
       "       [2.03548512e-01, 1.27660092e-02],\n",
       "       [7.81087119e-02, 4.90260526e-01],\n",
       "       [6.45149884e-01, 8.85926039e-01],\n",
       "       [6.26182626e-01, 7.68570706e-01],\n",
       "       [5.99774814e-01, 3.98136375e-02],\n",
       "       [5.36881091e-01, 8.29047685e-01]])"
      ]
     },
     "execution_count": 2,
     "metadata": {},
     "output_type": "execute_result"
    }
   ],
   "source": [
    "np.random.rand(100,2)"
   ]
  },
  {
   "cell_type": "code",
   "execution_count": 6,
   "metadata": {},
   "outputs": [],
   "source": [
    "X = -2 * np.random.rand(100,2)\n",
    "X1 = 1+2 * np.random.rand(50,2)"
   ]
  },
  {
   "cell_type": "code",
   "execution_count": null,
   "metadata": {},
   "outputs": [],
   "source": []
  },
  {
   "cell_type": "code",
   "execution_count": 7,
   "metadata": {},
   "outputs": [],
   "source": [
    "X[50:100,:] = X1"
   ]
  },
  {
   "cell_type": "code",
   "execution_count": 9,
   "metadata": {},
   "outputs": [
    {
     "data": {
      "image/png": "[encoded data removed]",
      "text/plain": [
       "<Figure size 432x288 with 1 Axes>"
      ]
     },
     "metadata": {
      "needs_background": "light"
     },
     "output_type": "display_data"
    }
   ],
   "source": [
    "plt.scatter(X[:,0],X[:,1], s=20, c='r')\n",
    "plt.show()"
   ]
  },
  {
   "cell_type": "code",
   "execution_count": 10,
   "metadata": {},
   "outputs": [
    {
     "data": {
      "text/plain": [
       "KMeans(algorithm='auto', copy_x=True, init='k-means++', max_iter=300,\n",
       "       n_clusters=2, n_init=10, n_jobs=None, precompute_distances='auto',\n",
       "       random_state=None, tol=0.0001, verbose=0)"
      ]
     },
     "execution_count": 10,
     "metadata": {},
     "output_type": "execute_result"
    }
   ],
   "source": [
    "Kmean = KMeans(n_clusters=2)\n",
    "Kmean.fit(X)"
   ]
  },
  {
   "cell_type": "code",
   "execution_count": 11,
   "metadata": {},
   "outputs": [
    {
     "data": {
      "text/plain": [
       "array([[-1.08422871, -1.00245789],\n",
       "       [ 2.00548662,  1.95430193]])"
      ]
     },
     "execution_count": 11,
     "metadata": {},
     "output_type": "execute_result"
    }
   ],
   "source": [
    "Kmean.cluster_centers_ #gives coordinates of the cnter"
   ]
  },
  {
   "cell_type": "code",
   "execution_count": 12,
   "metadata": {},
   "outputs": [],
   "source": [
    "cntr0 = Kmean.cluster_centers_[0]"
   ]
  },
  {
   "cell_type": "code",
   "execution_count": 18,
   "metadata": {},
   "outputs": [
    {
     "data": {
      "image/png": "[encoded data removed]",
      "text/plain": [
       "<Figure size 432x288 with 1 Axes>"
      ]
     },
     "metadata": {
      "needs_background": "light"
     },
     "output_type": "display_data"
    }
   ],
   "source": [
    "plt.scatter(Kmean.cluster_centers_[:,0],Kmean.cluster_centers_[:,1], s=150, c='b')\n",
    "plt.scatter(X[:,0],X[:,1], s=20, c='r')\n",
    "plt.show()\n"
   ]
  },
  {
   "cell_type": "code",
   "execution_count": 19,
   "metadata": {},
   "outputs": [
    {
     "data": {
      "text/plain": [
       "array([0, 0, 0, 0, 0, 0, 0, 0, 0, 0, 0, 0, 0, 0, 0, 0, 0, 0, 0, 0, 0, 0,\n",
       "       0, 0, 0, 0, 0, 0, 0, 0, 0, 0, 0, 0, 0, 0, 0, 0, 0, 0, 0, 0, 0, 0,\n",
       "       0, 0, 0, 0, 0, 0, 1, 1, 1, 1, 1, 1, 1, 1, 1, 1, 1, 1, 1, 1, 1, 1,\n",
       "       1, 1, 1, 1, 1, 1, 1, 1, 1, 1, 1, 1, 1, 1, 1, 1, 1, 1, 1, 1, 1, 1,\n",
       "       1, 1, 1, 1, 1, 1, 1, 1, 1, 1, 1, 1], dtype=int32)"
      ]
     },
     "execution_count": 19,
     "metadata": {},
     "output_type": "execute_result"
    }
   ],
   "source": [
    "Kmean.labels_"
   ]
  },
  {
   "cell_type": "code",
   "execution_count": 20,
   "metadata": {},
   "outputs": [
    {
     "data": {
      "text/plain": [
       "array([1], dtype=int32)"
      ]
     },
     "execution_count": 20,
     "metadata": {},
     "output_type": "execute_result"
    }
   ],
   "source": [
    "Kmean.predict([[3,1.5]])"
   ]
  },
  {
   "cell_type": "code",
   "execution_count": 21,
   "metadata": {},
   "outputs": [
    {
     "data": {
      "text/plain": [
       "64.33426499636542"
      ]
     },
     "execution_count": 21,
     "metadata": {},
     "output_type": "execute_result"
    }
   ],
   "source": [
    "Kmean.inertia_\n",
    "# inertia can be recognized as a measure if how internally coherent clusters are"
   ]
  },
  {
   "cell_type": "code",
   "execution_count": 24,
   "metadata": {},
   "outputs": [
    {
     "data": {
      "image/png": "[encoded data removed]",
      "text/plain": [
       "<Figure size 432x288 with 1 Axes>"
      ]
     },
     "metadata": {
      "needs_background": "light"
     },
     "output_type": "display_data"
    }
   ],
   "source": [
    "X = -2* np.random.rand(100,2)\n",
    "plt.scatter(X[ : ,0],X[ : ,1],s=50)\n",
    "plt.show()"
   ]
  },
  {
   "cell_type": "code",
   "execution_count": 25,
   "metadata": {},
   "outputs": [
    {
     "name": "stdout",
     "output_type": "stream",
     "text": [
      "Initialization complete\n",
      "start iteration\n",
      "done sorting\n",
      "end inner loop\n",
      "Iteration 0, inertia 16.846685352177154\n",
      "start iteration\n",
      "done sorting\n",
      "end inner loop\n",
      "Iteration 1, inertia 15.985436545562088\n",
      "start iteration\n",
      "done sorting\n",
      "end inner loop\n",
      "Iteration 2, inertia 15.550787252239799\n",
      "start iteration\n",
      "done sorting\n",
      "end inner loop\n",
      "Iteration 3, inertia 15.433031717580121\n",
      "start iteration\n",
      "done sorting\n",
      "end inner loop\n",
      "Iteration 4, inertia 15.433031717580121\n",
      "center shift 0.000000e+00 within tolerance 3.519420e-05\n",
      "Initialization complete\n",
      "start iteration\n",
      "done sorting\n",
      "end inner loop\n",
      "Iteration 0, inertia 20.076666094421864\n",
      "start iteration\n",
      "done sorting\n",
      "end inner loop\n",
      "Iteration 1, inertia 18.57972474877746\n",
      "start iteration\n",
      "done sorting\n",
      "end inner loop\n",
      "Iteration 2, inertia 16.894338582495834\n",
      "start iteration\n",
      "done sorting\n",
      "end inner loop\n",
      "Iteration 3, inertia 16.015696620532253\n",
      "start iteration\n",
      "done sorting\n",
      "end inner loop\n",
      "Iteration 4, inertia 15.502286787954557\n",
      "start iteration\n",
      "done sorting\n",
      "end inner loop\n",
      "Iteration 5, inertia 15.502286787954557\n",
      "center shift 0.000000e+00 within tolerance 3.519420e-05\n",
      "Initialization complete\n",
      "start iteration\n",
      "done sorting\n",
      "end inner loop\n",
      "Iteration 0, inertia 19.370394715563275\n",
      "start iteration\n",
      "done sorting\n",
      "end inner loop\n",
      "Iteration 1, inertia 17.016908691055935\n",
      "start iteration\n",
      "done sorting\n",
      "end inner loop\n",
      "Iteration 2, inertia 15.537210518660318\n",
      "start iteration\n",
      "done sorting\n",
      "end inner loop\n",
      "Iteration 3, inertia 15.489372729274075\n",
      "start iteration\n",
      "done sorting\n",
      "end inner loop\n",
      "Iteration 4, inertia 15.489372729274075\n",
      "center shift 0.000000e+00 within tolerance 3.519420e-05\n",
      "Initialization complete\n",
      "start iteration\n",
      "done sorting\n",
      "end inner loop\n",
      "Iteration 0, inertia 18.91610151125345\n",
      "start iteration\n",
      "done sorting\n",
      "end inner loop\n",
      "Iteration 1, inertia 16.12947807249582\n",
      "start iteration\n",
      "done sorting\n",
      "end inner loop\n",
      "Iteration 2, inertia 15.769285264066827\n",
      "start iteration\n",
      "done sorting\n",
      "end inner loop\n",
      "Iteration 3, inertia 15.495368242266542\n",
      "start iteration\n",
      "done sorting\n",
      "end inner loop\n",
      "Iteration 4, inertia 15.464153645953107\n",
      "start iteration\n",
      "done sorting\n",
      "end inner loop\n",
      "Iteration 5, inertia 15.464153645953107\n",
      "center shift 0.000000e+00 within tolerance 3.519420e-05\n",
      "Initialization complete\n",
      "start iteration\n",
      "done sorting\n",
      "end inner loop\n",
      "Iteration 0, inertia 22.323129842076273\n",
      "start iteration\n",
      "done sorting\n",
      "end inner loop\n",
      "Iteration 1, inertia 17.867180433115742\n",
      "start iteration\n",
      "done sorting\n",
      "end inner loop\n",
      "Iteration 2, inertia 16.591549897814982\n",
      "start iteration\n",
      "done sorting\n",
      "end inner loop\n",
      "Iteration 3, inertia 16.237155452054175\n",
      "start iteration\n",
      "done sorting\n",
      "end inner loop\n",
      "Iteration 4, inertia 15.550787252239799\n",
      "start iteration\n",
      "done sorting\n",
      "end inner loop\n",
      "Iteration 5, inertia 15.433031717580121\n",
      "start iteration\n",
      "done sorting\n",
      "end inner loop\n",
      "Iteration 6, inertia 15.433031717580121\n",
      "center shift 0.000000e+00 within tolerance 3.519420e-05\n",
      "Initialization complete\n",
      "start iteration\n",
      "done sorting\n",
      "end inner loop\n",
      "Iteration 0, inertia 17.32935354579771\n",
      "start iteration\n",
      "done sorting\n",
      "end inner loop\n",
      "Iteration 1, inertia 15.530365757720261\n",
      "start iteration\n",
      "done sorting\n",
      "end inner loop\n",
      "Iteration 2, inertia 15.403499179546444\n",
      "start iteration\n",
      "done sorting\n",
      "end inner loop\n",
      "Iteration 3, inertia 15.403499179546444\n",
      "center shift 0.000000e+00 within tolerance 3.519420e-05\n",
      "Initialization complete\n",
      "start iteration\n",
      "done sorting\n",
      "end inner loop\n",
      "Iteration 0, inertia 19.41352673827786\n",
      "start iteration\n",
      "done sorting\n",
      "end inner loop\n",
      "Iteration 1, inertia 17.617249912301002\n",
      "start iteration\n",
      "done sorting\n",
      "end inner loop\n",
      "Iteration 2, inertia 17.230424810666275\n",
      "start iteration\n",
      "done sorting\n",
      "end inner loop\n",
      "Iteration 3, inertia 16.798332239311513\n",
      "start iteration\n",
      "done sorting\n",
      "end inner loop\n",
      "Iteration 4, inertia 16.43530130429305\n",
      "start iteration\n",
      "done sorting\n",
      "end inner loop\n",
      "Iteration 5, inertia 15.937398484529538\n",
      "start iteration\n",
      "done sorting\n",
      "end inner loop\n",
      "Iteration 6, inertia 15.550787252239799\n",
      "start iteration\n",
      "done sorting\n",
      "end inner loop\n",
      "Iteration 7, inertia 15.433031717580121\n",
      "start iteration\n",
      "done sorting\n",
      "end inner loop\n",
      "Iteration 8, inertia 15.433031717580121\n",
      "center shift 0.000000e+00 within tolerance 3.519420e-05\n",
      "Initialization complete\n",
      "start iteration\n",
      "done sorting\n",
      "end inner loop\n",
      "Iteration 0, inertia 25.875926059539545\n",
      "start iteration\n",
      "done sorting\n",
      "end inner loop\n",
      "Iteration 1, inertia 25.187135762728524\n",
      "start iteration\n",
      "done sorting\n",
      "end inner loop\n",
      "Iteration 2, inertia 23.265590270809138\n",
      "start iteration\n",
      "done sorting\n",
      "end inner loop\n",
      "Iteration 3, inertia 17.77064851422285\n",
      "start iteration\n",
      "done sorting\n",
      "end inner loop\n",
      "Iteration 4, inertia 16.157223757445436\n",
      "start iteration\n",
      "done sorting\n",
      "end inner loop\n",
      "Iteration 5, inertia 15.460485356342136\n",
      "start iteration\n",
      "done sorting\n",
      "end inner loop\n",
      "Iteration 6, inertia 15.433031717580121\n",
      "start iteration\n",
      "done sorting\n",
      "end inner loop\n",
      "Iteration 7, inertia 15.433031717580121\n",
      "center shift 0.000000e+00 within tolerance 3.519420e-05\n",
      "Initialization complete\n",
      "start iteration\n",
      "done sorting\n",
      "end inner loop\n",
      "Iteration 0, inertia 17.622860455968798\n",
      "start iteration\n",
      "done sorting\n",
      "end inner loop\n",
      "Iteration 1, inertia 16.62596461010326\n",
      "start iteration\n",
      "done sorting\n",
      "end inner loop\n",
      "Iteration 2, inertia 15.466130072487276\n",
      "start iteration\n",
      "done sorting\n",
      "end inner loop\n",
      "Iteration 3, inertia 15.403499179546444\n",
      "start iteration\n",
      "done sorting\n",
      "end inner loop\n",
      "Iteration 4, inertia 15.403499179546444\n",
      "center shift 0.000000e+00 within tolerance 3.519420e-05\n",
      "Initialization complete\n",
      "start iteration\n",
      "done sorting\n",
      "end inner loop\n",
      "Iteration 0, inertia 17.682769137781683\n",
      "start iteration\n",
      "done sorting\n",
      "end inner loop\n",
      "Iteration 1, inertia 16.591549897814982\n",
      "start iteration\n",
      "done sorting\n",
      "end inner loop\n",
      "Iteration 2, inertia 16.237155452054175\n",
      "start iteration\n",
      "done sorting\n",
      "end inner loop\n",
      "Iteration 3, inertia 15.550787252239799\n",
      "start iteration\n",
      "done sorting\n",
      "end inner loop\n",
      "Iteration 4, inertia 15.433031717580121\n",
      "start iteration\n",
      "done sorting\n",
      "end inner loop\n",
      "Iteration 5, inertia 15.433031717580121\n",
      "center shift 0.000000e+00 within tolerance 3.519420e-05\n"
     ]
    },
    {
     "data": {
      "text/plain": [
       "KMeans(algorithm='auto', copy_x=True, init='k-means++', max_iter=300,\n",
       "       n_clusters=4, n_init=10, n_jobs=None, precompute_distances='auto',\n",
       "       random_state=None, tol=0.0001, verbose=1)"
      ]
     },
     "execution_count": 25,
     "metadata": {},
     "output_type": "execute_result"
    }
   ],
   "source": [
    "Kmean2 = KMeans(n_clusters=4,verbose=1)#verbose give syou info about what hapning\n",
    "Kmean2.fit(X)\n",
    "\n",
    "# your results(Clusters) are define the way your initial results are choosen\n"
   ]
  },
  {
   "cell_type": "code",
   "execution_count": 26,
   "metadata": {},
   "outputs": [
    {
     "data": {
      "text/plain": [
       "array([[-1.35144311, -0.51588954],\n",
       "       [-0.60950533, -1.62737539],\n",
       "       [-0.41339214, -0.4437139 ],\n",
       "       [-1.59719249, -1.66841978]])"
      ]
     },
     "execution_count": 26,
     "metadata": {},
     "output_type": "execute_result"
    }
   ],
   "source": [
    "Kmean2.cluster_centers_"
   ]
  },
  {
   "cell_type": "code",
   "execution_count": 27,
   "metadata": {},
   "outputs": [],
   "source": [
    "lebels2 = Kmean2.labels_"
   ]
  },
  {
   "cell_type": "code",
   "execution_count": 31,
   "metadata": {},
   "outputs": [
    {
     "data": {
      "image/png": "[encoded data removed]",
      "text/plain": [
       "<Figure size 432x288 with 1 Axes>"
      ]
     },
     "metadata": {
      "needs_background": "light"
     },
     "output_type": "display_data"
    }
   ],
   "source": [
    "plt.scatter(X[ : ,0],X[ : ,1],s=50,c=lebels2)\n",
    "plt.scatter(Kmean2.cluster_centers_[0][0],Kmean2.cluster_centers_[0][1],s=200,c ='g')\n",
    "plt.scatter(Kmean2.cluster_centers_[1][0],Kmean2.cluster_centers_[1][1],s=200,c ='blue')\n",
    "plt.scatter(Kmean2.cluster_centers_[2][0],Kmean2.cluster_centers_[2][1],s=200,c ='red')\n",
    "plt.scatter(Kmean2.cluster_centers_[3][0],Kmean2.cluster_centers_[3][1],s=200,c ='brown')\n",
    "plt.show()"
   ]
  },
  {
   "cell_type": "code",
   "execution_count": 32,
   "metadata": {},
   "outputs": [
    {
     "data": {
      "text/plain": [
       "15.403499179546444"
      ]
     },
     "execution_count": 32,
     "metadata": {},
     "output_type": "execute_result"
    }
   ],
   "source": [
    "Kmean2.inertia_"
   ]
  },
  {
   "cell_type": "code",
   "execution_count": 33,
   "metadata": {},
   "outputs": [
    {
     "data": {
      "text/plain": [
       "KMeans(algorithm='auto', copy_x=True, init='k-means++', max_iter=300,\n",
       "       n_clusters=2, n_init=10, n_jobs=None, precompute_distances='auto',\n",
       "       random_state=None, tol=0.0001, verbose=0)"
      ]
     },
     "execution_count": 33,
     "metadata": {},
     "output_type": "execute_result"
    }
   ],
   "source": [
    "Kmean1 = KMeans(n_clusters=2)\n",
    "Kmean1.fit(X)"
   ]
  },
  {
   "cell_type": "code",
   "execution_count": 34,
   "metadata": {},
   "outputs": [
    {
     "data": {
      "text/plain": [
       "array([[-1.00691771, -1.60436169],\n",
       "       [-0.92769723, -0.45322551]])"
      ]
     },
     "execution_count": 34,
     "metadata": {},
     "output_type": "execute_result"
    }
   ],
   "source": [
    "Kmean1.cluster_centers_"
   ]
  },
  {
   "cell_type": "code",
   "execution_count": 36,
   "metadata": {},
   "outputs": [],
   "source": [
    "lab1 = Kmean1.labels_"
   ]
  },
  {
   "cell_type": "code",
   "execution_count": 39,
   "metadata": {},
   "outputs": [
    {
     "data": {
      "image/png": "[encoded data removed]",
      "text/plain": [
       "<Figure size 432x288 with 1 Axes>"
      ]
     },
     "metadata": {
      "needs_background": "light"
     },
     "output_type": "display_data"
    }
   ],
   "source": [
    "plt.scatter(X[ : ,0],X[ : ,1],s=50,c=lab1)\n",
    "plt.scatter(Kmean1.cluster_centers_[0][0],Kmean1.cluster_centers_[0][1],s=200,c ='g')\n",
    "plt.scatter(Kmean1.cluster_centers_[1][0],Kmean1.cluster_centers_[1][1],s=200,c ='black')\n",
    "plt.show()"
   ]
  },
  {
   "cell_type": "code",
   "execution_count": 38,
   "metadata": {},
   "outputs": [
    {
     "data": {
      "text/plain": [
       "37.43647997795106"
      ]
     },
     "execution_count": 38,
     "metadata": {},
     "output_type": "execute_result"
    }
   ],
   "source": [
    "Kmean1.inertia_"
   ]
  },
  {
   "cell_type": "code",
   "execution_count": null,
   "metadata": {},
   "outputs": [],
   "source": [
    "#7710023361\n",
    "#sreemanta kesh"
   ]
  }
 ],
 "metadata": {
  "kernelspec": {
   "display_name": "Python 3",
   "language": "python",
   "name": "python3"
  },
  "language_info": {
   "codemirror_mode": {
    "name": "ipython",
    "version": 3
   },
   "file_extension": ".py",
   "mimetype": "text/x-python",
   "name": "python",
   "nbconvert_exporter": "python",
   "pygments_lexer": "ipython3",
   "version": "3.6.9"
  }
 },
 "nbformat": 4,
 "nbformat_minor": 2
}
